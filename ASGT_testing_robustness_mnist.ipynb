{
  "nbformat": 4,
  "nbformat_minor": 0,
  "metadata": {
    "colab": {
      "private_outputs": true,
      "provenance": [],
      "gpuType": "T4"
    },
    "kernelspec": {
      "name": "python3",
      "display_name": "Python 3"
    },
    "language_info": {
      "name": "python"
    },
    "accelerator": "GPU"
  },
  "cells": [
    {
      "cell_type": "code",
      "source": [
        "import torch\n",
        "import torch.nn as nn\n",
        "import torch.optim as optim\n",
        "import torch.nn.functional as F\n",
        "import torch.backends.cudnn as cudnn\n",
        "from torch.autograd import Variable\n",
        "import torchvision\n",
        "import random\n",
        "import os\n",
        "import argparse\n",
        "import numpy as np\n",
        "import importlib\n",
        "from cnn import Net\n",
        "import torch.optim as optim\n",
        "from torchvision import datasets, transforms\n",
        "import time\n",
        "import Helper\n",
        "import regular\n",
        "import interpretable\n",
        "from Helper import save_checkpoint"
      ],
      "metadata": {
        "id": "AtCJmUUyPlMB"
      },
      "execution_count": null,
      "outputs": []
    },
    {
      "cell_type": "code",
      "source": [
        "transform=transforms.Compose([\n",
        "        transforms.ToTensor(),\n",
        "        transforms.Normalize((0.1307,), (0.3081,))\n",
        "        ])\n",
        "dataset1 = datasets.MNIST('./data/MNIST_data', train=True, download=True,\n",
        "                    transform=transform)\n",
        "dataset2 = datasets.MNIST('./data/MNIST_data', train=False,\n",
        "                    transform=transform)\n",
        "trainloader = torch.utils.data.DataLoader(dataset1,batch_size=512, shuffle=True)\n",
        "testloader = torch.utils.data.DataLoader(dataset2, batch_size=1, shuffle=False)"
      ],
      "metadata": {
        "id": "U_V1EoA8RWep"
      },
      "execution_count": null,
      "outputs": []
    },
    {
      "cell_type": "code",
      "source": [
        "model = Net()\n",
        "#model.load_state_dict(torch.load('models/MNIST_regular1_model.th')['state_dict'])\n",
        "#model.load_state_dict(torch.load('models/MNIST_interpretablefeaturesDroped_0.5_RandomMasking_1_model.th')['state_dict'])\n",
        "model.load_state_dict(torch.load('models/MNIST_interpretablefeaturesDroped_0.3_RandomMasking_1_model.th')['state_dict'])\n",
        "model.eval()"
      ],
      "metadata": {
        "id": "4cy9ABF4RRMp"
      },
      "execution_count": null,
      "outputs": []
    },
    {
      "cell_type": "code",
      "source": [
        "test_loss = 0\n",
        "correct = 0\n",
        "model.cuda()\n",
        "with torch.no_grad():\n",
        "    for data, target in testloader:\n",
        "        output = model(data.cuda())\n",
        "        pred = output.argmax(dim=1, keepdim=True)\n",
        "        #print(pred)\n",
        "        correct +=  torch.eq(pred, target.cuda()).sum().item()\n",
        "test_loss /= len(testloader.dataset)\n",
        "print('\\nTest set:  Accuracy: {}/{} ({:.0f}%)\\n'.format(\n",
        "     correct, len(testloader.dataset),\n",
        "    100. * correct / len(testloader.dataset)))"
      ],
      "metadata": {
        "id": "Vkn1b9kzQ4A8"
      },
      "execution_count": null,
      "outputs": []
    },
    {
      "cell_type": "markdown",
      "source": [
        "#Torchattacks"
      ],
      "metadata": {
        "id": "Ctoi4yiKoXVU"
      }
    },
    {
      "cell_type": "code",
      "source": [
        "!pip install torchattacks"
      ],
      "metadata": {
        "id": "-s_efHfVoWQV"
      },
      "execution_count": null,
      "outputs": []
    },
    {
      "cell_type": "code",
      "source": [
        "import torchattacks"
      ],
      "metadata": {
        "id": "2RowpeW1oOQQ"
      },
      "execution_count": null,
      "outputs": []
    },
    {
      "cell_type": "code",
      "source": [
        "from torch.nn.modules import normalization\n",
        "def test( model, device, test_loader, epsilon ):\n",
        "\n",
        "    # Accuracy counter\n",
        "    correct = 0\n",
        "    adv_examples = []\n",
        "\n",
        "    # Loop over all examples in test set\n",
        "    for data, target in test_loader:\n",
        "\n",
        "        # Send the data and label to the device\n",
        "        data, target = data.to(device), target.to(device) #.to(device)\n",
        "        # Set requires_grad attribute of tensor. Important for Attack\n",
        "        data.requires_grad = True\n",
        "\n",
        "        # Forward pass the data through the model\n",
        "        output = model(data)\n",
        "        init_pred = output.max(1, keepdim=True)[1] # get the index of the max log-probability\n",
        "\n",
        "        # If the initial prediction is wrong, dont bother attacking, just move on\n",
        "        if init_pred.item() != target.item():\n",
        "            continue\n",
        "\n",
        "\n",
        "        # Call Attack, you can change it to any other attack\n",
        "        #attack = torchattacks.FFGSM(model, eps=epsilon, alpha=0.5) #8/255\n",
        "        #attack = torchattacks.FGSM(model, eps=epsilon) #8/255\n",
        "        #attack = torchattacks.DIFGSM(model, eps=epsilon, alpha=8/255)\n",
        "        #attack = torchattacks.MIFGSM(model, eps=epsilon, alpha=8/255, steps=10, decay=1.0)\n",
        "        #attack = torchattacks.SINIFGSM(model, eps=epsilon, alpha=8/255)\n",
        "        #attack = torchattacks.TIFGSM(model, eps=epsilon, alpha=8/255)\n",
        "        #attack = torchattacks.RFGSM(model, eps=epsilon, alpha=8/255)\n",
        "        attack = torchattacks.PGD(model, eps=epsilon, alpha=8/255, steps=20, random_start=True)\n",
        "        #attack = torchattacks.TPGD(model, eps=epsilon, alpha=8/255, steps=20)\n",
        "        #attack = torchattacks.DeepFool(model, steps=50, overshoot=0.02)\n",
        "        #attack = torchattacks.attacks.cw.CW(model.cpu(), c=1, kappa=0, steps=50, lr=0.01)\n",
        "        #data_denorm = denorm(data)\n",
        "        attack.set_normalization_used(mean=[0.1307], std=[0.3081])\n",
        "        #attack.save( test_loader, save_path=None, verbose=True, return_verbose=False,\n",
        "        #     save_predictions=False, save_clean_inputs=False, save_type='float')\n",
        "        #attack._normalization_applied=True\n",
        "        #attack.normalization_used(mean=(0.1307,), std=(0.3081,))\n",
        "        #normalize_data = attack.normalize(data)\n",
        "        perturbed_data = attack(data.cpu(), target.cpu())\n",
        "\n",
        "        #perturbed_data = inverse_normalize(data)#transforms.Normalize((0.1307,), (0.3081,))(perturbed_data)\n",
        "        # Re-classify the perturbed image\n",
        "        output = model(perturbed_data)\n",
        "\n",
        "        # Check for success\n",
        "        final_pred = output.max(1, keepdim=True)[1] # get the index of the max log-probability\n",
        "        if final_pred.item() == target.item():\n",
        "            correct += 1\n",
        "\n",
        "    # Calculate final accuracy for this epsilon\n",
        "    final_acc = correct/float(len(test_loader))\n",
        "    print(\"Epsilon: {}\\tTest Accuracy = {} / {} = {}\".format(epsilon, correct, len(test_loader), final_acc))\n",
        "\n",
        "    # Return the accuracy and an adversarial example\n",
        "    return final_acc, adv_examples"
      ],
      "metadata": {
        "id": "K3aMrWRPocVs"
      },
      "execution_count": null,
      "outputs": []
    },
    {
      "cell_type": "code",
      "source": [
        "epsilons = [0, .05, .1, .15, .2, .25, .3, .35, .4]\n",
        "accuracies_torchattack = []\n",
        "examples_torchattack = []\n",
        "device = 'cuda'\n",
        "# Run test for each epsilon\n",
        "for eps in epsilons:\n",
        "    acc, ex = test(model.cuda(), device, testloader, eps)\n",
        "    accuracies_torchattack.append(acc)\n",
        "    examples_torchattack.append(ex)"
      ],
      "metadata": {
        "id": "GWJDRnwYpIpp"
      },
      "execution_count": null,
      "outputs": []
    },
    {
      "cell_type": "code",
      "source": [],
      "metadata": {
        "id": "QmkT8tpqSjyb"
      },
      "execution_count": null,
      "outputs": []
    }
  ]
}